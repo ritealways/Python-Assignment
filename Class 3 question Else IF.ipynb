{
 "cells": [
  {
   "cell_type": "markdown",
   "metadata": {},
   "source": [
    "# Class 3 question"
   ]
  },
  {
   "cell_type": "markdown",
   "metadata": {},
   "source": [
    "Q1. Thapa's CAFE"
   ]
  },
  {
   "cell_type": "code",
   "execution_count": 5,
   "metadata": {},
   "outputs": [
    {
     "name": "stdout",
     "output_type": "stream",
     "text": [
      "thap's sandwitch cafe\n",
      "welcome to sandwitch cafe\n",
      "press c for cheese and v for veggiec\n",
      "press m for machengo and s for cheddarf\n",
      "we have only two types of cheese sandwitches\n"
     ]
    }
   ],
   "source": [
    "print(\"thap's sandwitch cafe\")\n",
    "print(\"welcome to sandwitch cafe\")\n",
    "user=input(\"press c for cheese and v for veggie\")\n",
    "if user=='c':\n",
    "    cheese_type=input(\"press m for machengo and s for cheddar\")\n",
    "    if cheese_type=='s':\n",
    "        print(\"Here is your cheddar cheese sandwitch\")\n",
    "    elif cheese_type=='m':\n",
    "        print(\"Here is your machengo sandwitch\")\n",
    "    else:\n",
    "        print(\"we have only two types of cheese sandwitches\")\n",
    "elif user=='v':\n",
    "    print(\"Here is your veggie sandwitch\")\n",
    "else:\n",
    "    print(\"we dont have any sandwitch\")"
   ]
  },
  {
   "cell_type": "code",
   "execution_count": null,
   "metadata": {},
   "outputs": [],
   "source": []
  },
  {
   "cell_type": "markdown",
   "metadata": {},
   "source": [
    "Q2. \n",
    "It is commonly said that one human year is equivalent to 7 dog years. However this simple conversion fails to recognize that dogs reach adulthood in approximately two years. As a result, some people believe that it is better to count each of the first two human years as 10.5 dog years, and then count each additional human years as 4 dog years.\n",
    "\n",
    "Write a program that implements the conversation from human years to dog years described above. Ensure that your program works correctly for conversions of less than two human years and for conversions of two or more human years"
   ]
  },
  {
   "cell_type": "code",
   "execution_count": 7,
   "metadata": {},
   "outputs": [
    {
     "name": "stdout",
     "output_type": "stream",
     "text": [
      "enter the human years5\n",
      "this is the eqv human year\n",
      "33.0\n"
     ]
    }
   ],
   "source": [
    "a=int(input(\"enter the human years\"))\n",
    "\n",
    "if a<=2:\n",
    "    dogyear=a*10.5\n",
    "    print(\"this is the eqv human year\")\n",
    "    print(dogyear)\n",
    "else:\n",
    "    dogyear=(a-2)*4+(10.5*2)\n",
    "    print(\"this is the eqv human year\")\n",
    "    print(dogyear)"
   ]
  },
  {
   "cell_type": "markdown",
   "metadata": {},
   "source": [
    "Q3.\n",
    "You will create a program that reads a letter of the alphabet from the user. If the user enters a, e, i, o or u then your program should display a message indicating that the entered letter is a vowel. If the user enters y then your program should display a message indicating that sometimes y is a vowel, and sometimes y is a consonant. Otherwise your program should display a message indicating that the letter is a consonant.\n",
    "\n",
    "it is simple we will have to use the \"in\" operator ask the user for the letter vowel a variable if statements"
   ]
  },
  {
   "cell_type": "code",
   "execution_count": 15,
   "metadata": {},
   "outputs": [
    {
     "name": "stdout",
     "output_type": "stream",
     "text": [
      "enter the letterz\n",
      "letter is a consonent\n"
     ]
    }
   ],
   "source": [
    "#method 1\n",
    "\n",
    "data=input('enter the letter')\n",
    "\n",
    "if data=='a'or data=='e'or data=='i'or data=='o'or data=='u':\n",
    "    print(\"letter is a vowel\")\n",
    "elif data=='y':\n",
    "    print(\"sometimes y is a vowel, and sometimes y is a consonant\")\n",
    "else:\n",
    "    print(\"letter is a consonent\")\n"
   ]
  },
  {
   "cell_type": "code",
   "execution_count": 22,
   "metadata": {},
   "outputs": [
    {
     "name": "stdout",
     "output_type": "stream",
     "text": [
      "enter the letterw\n",
      "letter is a consonent\n"
     ]
    }
   ],
   "source": [
    "#method 2 using in operator\n",
    "\n",
    "data=input('enter the letter')\n",
    "z=['a','e','i','o','u']\n",
    "if data in z:\n",
    "    print(\"letter is a vowel\") \n",
    "elif data=='y':\n",
    "    print(\"sometimes y is a vowel, and sometimes y is a consonant\")\n",
    "else:\n",
    "    print(\"letter is a consonent\")\n"
   ]
  },
  {
   "cell_type": "code",
   "execution_count": 20,
   "metadata": {},
   "outputs": [
    {
     "name": "stdout",
     "output_type": "stream",
     "text": [
      "0\n",
      "1\n",
      "2\n",
      "3\n",
      "4\n",
      "5\n",
      "6\n",
      "7\n",
      "8\n",
      "9\n"
     ]
    }
   ],
   "source": []
  },
  {
   "cell_type": "code",
   "execution_count": null,
   "metadata": {},
   "outputs": [],
   "source": []
  }
 ],
 "metadata": {
  "kernelspec": {
   "display_name": "Python 3",
   "language": "python",
   "name": "python3"
  },
  "language_info": {
   "codemirror_mode": {
    "name": "ipython",
    "version": 3
   },
   "file_extension": ".py",
   "mimetype": "text/x-python",
   "name": "python",
   "nbconvert_exporter": "python",
   "pygments_lexer": "ipython3",
   "version": "3.7.3"
  }
 },
 "nbformat": 4,
 "nbformat_minor": 2
}
